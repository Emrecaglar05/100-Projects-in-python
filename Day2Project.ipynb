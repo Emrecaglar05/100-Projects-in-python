{
  "nbformat": 4,
  "nbformat_minor": 0,
  "metadata": {
    "colab": {
      "provenance": [],
      "authorship_tag": "ABX9TyPkzJsWqSGkn2d/7n18dWIo",
      "include_colab_link": true
    },
    "kernelspec": {
      "name": "python3",
      "display_name": "Python 3"
    },
    "language_info": {
      "name": "python"
    }
  },
  "cells": [
    {
      "cell_type": "markdown",
      "metadata": {
        "id": "view-in-github",
        "colab_type": "text"
      },
      "source": [
        "<a href=\"https://colab.research.google.com/github/Emrecaglar05/100-Projects-in-python/blob/main/Day2Project.ipynb\" target=\"_parent\"><img src=\"https://colab.research.google.com/assets/colab-badge.svg\" alt=\"Open In Colab\"/></a>"
      ]
    },
    {
      "cell_type": "code",
      "execution_count": 1,
      "metadata": {
        "colab": {
          "base_uri": "https://localhost:8080/"
        },
        "id": "xUlueDLmV3I5",
        "outputId": "ec5c7cbf-b557-4ce7-c61d-b82b6efae920"
      },
      "outputs": [
        {
          "output_type": "stream",
          "name": "stdout",
          "text": [
            "<class 'str'>\n",
            "<class 'int'>\n",
            "<class 'float'>\n",
            "<class 'bool'>\n"
          ]
        }
      ],
      "source": [
        "# Storing a name in a variable\n",
        "name = \"Emre\"\n",
        "nameOfPerson = \"Emre\"\n",
        "\n",
        "# Storing an age in a variable\n",
        "age = 42\n",
        "\n",
        "# String\n",
        "name = \"Emre\"\n",
        "\n",
        "# Integer\n",
        "age = 42\n",
        "\n",
        "# Float\n",
        "height = 5.8\n",
        "\n",
        "# Boolean\n",
        "is_student = False\n",
        "\n",
        "print(type(name))\n",
        "print(type(age))\n",
        "print(type(height))\n",
        "print(type(is_student))"
      ]
    },
    {
      "cell_type": "code",
      "source": [
        "age = \"21\"\n",
        "\n",
        "myAge = int(age)\n",
        "\n",
        "print(myAge + 5)\n",
        "\n",
        "name = \"Emre\"\n",
        "\n",
        "print(\"Hello, \" + name + \"!\")\n",
        "\n",
        "print(\"Hello My Friend, {}!\".format(name))\n",
        "\n",
        "print(f\"Hello, {name}!\")"
      ],
      "metadata": {
        "colab": {
          "base_uri": "https://localhost:8080/"
        },
        "id": "-EFWwvlafm_I",
        "outputId": "7a2e0a0c-0bdc-43e4-948b-af091e5f7643"
      },
      "execution_count": 2,
      "outputs": [
        {
          "output_type": "stream",
          "name": "stdout",
          "text": [
            "26\n",
            "Hello, Vivian!\n",
            "Hello My Friend, Vivian!\n",
            "Hello, Vivian!\n"
          ]
        }
      ]
    },
    {
      "cell_type": "code",
      "source": [
        "# Personalized Greeting Program\n",
        "\n",
        "# Step 1: Ask for user details\n",
        "name = input(\"What is your name? \")\n",
        "age = int(input(\"How old are you? \"))\n",
        "color = input(\"What is your favorite color? \")\n",
        "\n",
        "# Step 2: Generate a personalized greeting message\n",
        "print(\"\\n---- Personalized Greeting ----\")\n",
        "print(f\"Hello, {name}! 👋\")\n",
        "print(f\"You are {age} years old and {color} is a beautiful color!\")\n",
        "print(\"You're now ready to start your Python adventure 🚀🐍\")"
      ],
      "metadata": {
        "colab": {
          "base_uri": "https://localhost:8080/"
        },
        "id": "U4zKciS8f6Ay",
        "outputId": "23b4792b-55d1-4b72-c78f-9cac794c21ec"
      },
      "execution_count": 3,
      "outputs": [
        {
          "output_type": "stream",
          "name": "stdout",
          "text": [
            "What is your name? Emre\n",
            "How old are you? 21\n",
            "What is your favorite color? Blue\n",
            "\n",
            "---- Personalized Greeting ----\n",
            "Hello, Emre! 👋\n",
            "You are 21 years old and Blue is a beautiful color!\n",
            "You're now ready to start your Python adventure 🚀🐍\n"
          ]
        }
      ]
    }
  ]
}